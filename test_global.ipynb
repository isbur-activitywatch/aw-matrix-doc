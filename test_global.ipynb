{
 "cells": [
  {
   "cell_type": "markdown",
   "metadata": {},
   "source": [
    "# Точка зрения aw-server \n",
    "|Реальность|Ожидания|\n",
    "|--|--|\n",
    "|![](img/timeline-screenshot.png)|![](img/timeline-screenshot-expected.png)|\n",
    "\n",
    "\n"
   ]
  },
  {
   "cell_type": "code",
   "execution_count": null,
   "metadata": {},
   "outputs": [],
   "source": [
    "# assert old App.View() != new App.View(),"
   ]
  },
  {
   "cell_type": "markdown",
   "metadata": {},
   "source": [
    "# Мамкина синхронизация\n",
    "\n",
    "Также нужно написать чатбот-обёртку над сервером (aw-server, not matrix homeserver)\n",
    "\n",
    "Начать, видимо, хотя бы с такого клиента:\n",
    "\n",
    "https://matrix-nio.readthedocs.io/en/latest/examples.html#a-basic-client\n",
    "\n",
    "|Реальность|Ожидания|\n",
    "|--|--|\n",
    "|![](img/riot-before.png)|![](img/riot-after.png)|"
   ]
  },
  {
   "cell_type": "code",
   "execution_count": 1,
   "metadata": {},
   "outputs": [],
   "source": [
    "# assert data is transmitted correctly"
   ]
  },
  {
   "cell_type": "markdown",
   "metadata": {},
   "source": [
    "# Установка Synapse - Matrix Home Server'а\n",
    "\n",
    "*Здесь должна быть таблица, аналогичная \"мамкиной синхронизации\", только с одним лишь изменённым сервером*\n",
    "\n",
    "https://matrix.org/docs/guides/installing-synapse\n",
    "\n",
    "https://github.com/matrix-org/synapse/blob/master/INSTALL.md#prebuilt-packages\n",
    "\n",
    "OH SHIT!!!\n",
    "\n",
    "Плохо дружит с Шиндоус\n",
    "\n",
    "Лучше искать какой-то вариант хостинга...\n",
    "\n"
   ]
  },
  {
   "cell_type": "markdown",
   "metadata": {},
   "source": [
    "Нахер Modular!\n",
    "\n",
    "Короче, берём их официальный Docker образ и пытаемся захуярить на heroku\n",
    "\n",
    "https://hub.docker.com/r/matrixdotorg/synapse\n",
    "\n",
    "итеративно отлаживать же это... Ну можно тот же Travis попробовать - много кто предлагает build системы, не одним openshift online живы"
   ]
  },
  {
   "cell_type": "markdown",
   "metadata": {},
   "source": [
    "А Openshift Online хотелось бы как-то отплатить, да вот только хер пойми, как именно"
   ]
  },
  {
   "cell_type": "markdown",
   "metadata": {},
   "source": [
    "Ну и всякие мысли вслух (скорее, их реализация лежит уже за пределами данного опуса)"
   ]
  },
  {
   "cell_type": "code",
   "execution_count": null,
   "metadata": {},
   "outputs": [],
   "source": [
    "# \tиз данных по afk формируется единый \"онлайн-оффлайн\" бакет \t\n",
    "# Уже тут можно видеть разделение на \"всеобщую синхронизацию\" и дальнейшие преобразования \"смёрженных\" данных\n",
    "\n",
    "# \tизначально делать синхронизацию по бакетам?\n",
    "# ]\n",
    "\n",
    "\n",
    "# глобальный афк? А пусть спрашивает, чё делал!"
   ]
  }
 ],
 "metadata": {
  "language_info": {
   "codemirror_mode": {
    "name": "ipython",
    "version": 3
   },
   "file_extension": ".py",
   "mimetype": "text/x-python",
   "name": "python",
   "nbconvert_exporter": "python",
   "pygments_lexer": "ipython3",
   "version": "3.8.3-final"
  },
  "orig_nbformat": 2,
  "kernelspec": {
   "name": "python3",
   "display_name": "Python 3"
  }
 },
 "nbformat": 4,
 "nbformat_minor": 2
}