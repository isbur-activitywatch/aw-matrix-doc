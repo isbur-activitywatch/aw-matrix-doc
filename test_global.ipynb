{
 "cells": [
  {
   "cell_type": "markdown",
   "metadata": {},
   "source": [
    "# Точка зрения aw-server \n",
    "|Реальность|Ожидания|\n",
    "|--|--|\n",
    "|![](img/timeline-screenshot.png)|![](img/timeline-screenshot-expected.png)|\n",
    "\n",
    "\n"
   ]
  },
  {
   "cell_type": "code",
   "execution_count": null,
   "metadata": {},
   "outputs": [],
   "source": [
    "# assert old App.View() != new App.View(),"
   ]
  },
  {
   "cell_type": "markdown",
   "metadata": {},
   "source": [
    "# Мамкина синхронизация\n",
    "\n",
    "Также нужно написать чатбот-обёртку над сервером (aw-server, not matrix homeserver)\n",
    "\n",
    "Начать, видимо, хотя бы с такого клиента:\n",
    "\n",
    "https://matrix-nio.readthedocs.io/en/latest/examples.html#a-basic-client\n",
    "\n",
    "|Реальность|Ожидания|\n",
    "|--|--|\n",
    "|![](img/riot-before.png)|![](img/riot-after.png)|\n",
    "\n",
    "Поможет нам в этом https://github.com/poljar/matrix-nio"
   ]
  },
  {
   "cell_type": "code",
   "execution_count": 1,
   "metadata": {},
   "outputs": [],
   "source": [
    "# assert data is transmitted correctly"
   ]
  },
  {
   "cell_type": "markdown",
   "metadata": {},
   "source": [
    "# Установка Synapse - Matrix Home Server'а\n",
    "\n",
    "*Здесь должна быть таблица, аналогичная \"мамкиной синхронизации\", только с одним лишь изменённым сервером*\n",
    "\n",
    "## Опции\n",
    "\n",
    "* Локально на Windows\n",
    "* Готовый хостинг\n",
    "* Вручную на...\n",
    "    * Openshift Online?\n",
    "    * Heroku?\n",
    "\n",
    "\n"
   ]
  },
  {
   "cell_type": "markdown",
   "metadata": {},
   "source": [
    "### Локально на Windows\n",
    "\n",
    "https://matrix.org/docs/guides/installing-synapse\n",
    "\n",
    "https://github.com/matrix-org/synapse/blob/master/INSTALL.md#prebuilt-packages\n",
    "\n",
    "OH SHIT!!!\n",
    "\n",
    "Плохо дружит с Шиндоус\n",
    "\n",
    "\n",
    "Короче, берём их официальный Docker образ и пытаемся захуярить куда-нибудь\n",
    "\n",
    "https://hub.docker.com/r/matrixdotorg/synapse\n",
    "\n",
    "итеративно отлаживать же это... Ну можно тот же Travis попробовать - много кто предлагает build системы, не одним openshift online живы"
   ]
  },
  {
   "cell_type": "markdown",
   "metadata": {},
   "source": [
    "### Готовый хостинг (Modular)\n",
    "\n",
    "С ним всё нормально, да вот только платный он..."
   ]
  },
  {
   "cell_type": "markdown",
   "metadata": {},
   "source": [
    "### Openshift online\n",
    "\n",
    "Научился запускать в Eclipse Che произвольный контейнер, вот только проблема с доступом к файлам\n",
    "\n",
    "Мб это всё ещё можно как-то пофиксить? Помимо игрищ с кондой"
   ]
  },
  {
   "cell_type": "markdown",
   "metadata": {},
   "source": [
    "\n",
    "\n",
    "\n",
    "\n",
    "### Play with docker\n",
    "\n",
    "God damn good!\n",
    "\n",
    "![](img/synapse-play-with-docker.png)\n",
    "\n"
   ]
  },
  {
   "cell_type": "markdown",
   "metadata": {},
   "source": [
    "### Heroku\n",
    "\n",
    "Ых!\n",
    "\n",
    "Отсюда: https://hub.docker.com/r/matrixdotorg/synapse\n",
    "\n",
    "> # Volumes\n",
    "> \n",
    "> By default, the image expects a single volume, located at /data, that will hold:\n",
    ">\n",
    ">    * configuration files;\n",
    ">    * temporary files during uploads;\n",
    ">    * uploaded media and thumbnails;\n",
    ">    * the SQLite database if you do not configure postgres;\n",
    ">    * the appservices configuration.\n",
    "\n",
    "То есть нам нужен persistent volume даже для обычного функционирования (хотя мб можно это исправить настройками, но ЭТА ЖИ НАДО ЛЕЗТЬ ВНУТРО)\n",
    "\n",
    "В то же время, отсюда: https://devcenter.heroku.com/articles/container-registry-and-runtime\n",
    "\n",
    "![](img/heroku-fail.png)\n",
    "\n",
    "Так что, видимо, пока от Heroku отказываемся и возвращаемся к Openshift Online, тем паче, что мне не Eclipse Che workspace запускать, а всего лишь приложение задеплоить\n"
   ]
  },
  {
   "cell_type": "markdown",
   "metadata": {},
   "source": [
    "### Openshift Online II\n",
    "\n",
    "Оказывается, этому образу за каким-то хером нужен рут во время работы:\n",
    "\n",
    "![](img/openshift-root-fail.png)\n",
    "\n",
    "Посмотрим, может это нужно только в начале работы скрипта...\n",
    "\n"
   ]
  },
  {
   "cell_type": "markdown",
   "metadata": {},
   "source": [
    "### Openshift Online III\n",
    "\n",
    "Ну что же... С 56-ой попытки что-то получилось!\n",
    "\n",
    "![](img/synapse-openshift-56.png)"
   ]
  },
  {
   "cell_type": "markdown",
   "metadata": {},
   "source": [
    "### Подключиться с Matrix...\n",
    "\n",
    "Ееее, прогресс!\n",
    "\n",
    "![](img/synapse-openshift-https.png)\n",
    "\n",
    "Но...\n",
    "\n",
    "![](img/riot-registration-disabled.png)\n",
    "\n",
    "[Отсюда](https://github.com/matrix-org/synapse/blob/master/README.rst#registering-a-new-user-from-a-client) (https://github.com/matrix-org/synapse/blob/master/README.rst#registering-a-new-user-from-a-client):\n",
    "> By default, registration of new users via Matrix clients is disabled. To enable it, specify enable_registration: true in homeserver.yaml. (It is then recommended to also set up CAPTCHA - see docs/CAPTCHA_SETUP.md.)\n",
    ">\n",
    "> Once enable_registration is set to true, it is possible to register a user via riot.im or other Matrix clients.\n",
    "\n",
    "Успех!\n",
    "\n",
    "![](img/foo-first-user.png)\n",
    "\n",
    "![](img/random-server-logs.png)"
   ]
  },
  {
   "cell_type": "markdown",
   "metadata": {},
   "source": [
    "### Matrix Federation\n",
    "\n",
    "Думаю, понадобится, по крайней мере, это, чтобы впечатлить автора activitywatch (его очень интересует тема отсутствия центрального сервера)"
   ]
  },
  {
   "cell_type": "markdown",
   "metadata": {},
   "source": [
    "Ну и всякие мысли вслух (скорее, их реализация лежит уже за пределами данного опуса)"
   ]
  },
  {
   "cell_type": "code",
   "execution_count": null,
   "metadata": {},
   "outputs": [],
   "source": [
    "# \tиз данных по afk формируется единый \"онлайн-оффлайн\" бакет \t\n",
    "# Уже тут можно видеть разделение на \"всеобщую синхронизацию\" и дальнейшие преобразования \"смёрженных\" данных\n",
    "\n",
    "# \tизначально делать синхронизацию по бакетам?\n",
    "# ]\n",
    "\n",
    "\n",
    "# глобальный афк? А пусть спрашивает, чё делал!"
   ]
  },
  {
   "cell_type": "markdown",
   "metadata": {},
   "source": [
    "А Openshift Online хотелось бы как-то отплатить, да вот только хер пойми, как именно"
   ]
  }
 ],
 "metadata": {
  "language_info": {
   "codemirror_mode": {
    "name": "ipython",
    "version": 3
   },
   "file_extension": ".py",
   "mimetype": "text/x-python",
   "name": "python",
   "nbconvert_exporter": "python",
   "pygments_lexer": "ipython3",
   "version": "3.8.3-final"
  },
  "orig_nbformat": 2,
  "kernelspec": {
   "name": "python3",
   "display_name": "Python 3"
  }
 },
 "nbformat": 4,
 "nbformat_minor": 2
}